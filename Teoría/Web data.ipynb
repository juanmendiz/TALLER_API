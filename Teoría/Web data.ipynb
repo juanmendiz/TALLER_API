{
 "cells": [
  {
   "attachments": {},
   "cell_type": "markdown",
   "metadata": {
    "colab_type": "text",
    "id": "zWl5iuMThonQ"
   },
   "source": [
    "# Descargas de diferentes fuentes de la web"
   ]
  },
  {
   "cell_type": "code",
   "execution_count": 1,
   "metadata": {},
   "outputs": [],
   "source": [
    "# Importamos librerias\n",
    "import requests\n",
    "import zipfile\n",
    "import pandas as pd"
   ]
  },
  {
   "attachments": {},
   "cell_type": "markdown",
   "metadata": {},
   "source": [
    "## Primera petición\n",
    "\n",
    "Usando la función get de la librería *request*"
   ]
  },
  {
   "cell_type": "code",
   "execution_count": 2,
   "metadata": {},
   "outputs": [],
   "source": [
    "url = \"https://pbs.twimg.com/profile_images/616689518968762368/rkhjKqNb.jpg\"\n",
    "image = requests.get(url)"
   ]
  },
  {
   "cell_type": "code",
   "execution_count": 3,
   "metadata": {},
   "outputs": [
    {
     "data": {
      "text/plain": [
       "<Response [200]>"
      ]
     },
     "execution_count": 3,
     "metadata": {},
     "output_type": "execute_result"
    }
   ],
   "source": [
    "image\n"
   ]
  },
  {
   "cell_type": "code",
   "execution_count": 17,
   "metadata": {},
   "outputs": [],
   "source": [
    "with open(\"mutenrroy.jpg\", 'wb') as f:\n",
    "    f.write(image.content)"
   ]
  },
  {
   "attachments": {},
   "cell_type": "markdown",
   "metadata": {},
   "source": [
    "## Bajar datos de inflación mediante url\n",
    "\n",
    "Podemos descargar directamente desde una URL, un fichero .csv\n",
    "\n",
    "Esto no es una petición"
   ]
  },
  {
   "cell_type": "code",
   "execution_count": 8,
   "metadata": {},
   "outputs": [
    {
     "data": {
      "text/html": [
       "<div>\n",
       "<style scoped>\n",
       "    .dataframe tbody tr th:only-of-type {\n",
       "        vertical-align: middle;\n",
       "    }\n",
       "\n",
       "    .dataframe tbody tr th {\n",
       "        vertical-align: top;\n",
       "    }\n",
       "\n",
       "    .dataframe thead th {\n",
       "        text-align: right;\n",
       "    }\n",
       "</style>\n",
       "<table border=\"1\" class=\"dataframe\">\n",
       "  <thead>\n",
       "    <tr style=\"text-align: right;\">\n",
       "      <th></th>\n",
       "      <th>Country</th>\n",
       "      <th>Country Code</th>\n",
       "      <th>Year</th>\n",
       "      <th>Inflation</th>\n",
       "    </tr>\n",
       "  </thead>\n",
       "  <tbody>\n",
       "    <tr>\n",
       "      <th>0</th>\n",
       "      <td>Arab World</td>\n",
       "      <td>ARB</td>\n",
       "      <td>1969</td>\n",
       "      <td>1.303790</td>\n",
       "    </tr>\n",
       "    <tr>\n",
       "      <th>1</th>\n",
       "      <td>Arab World</td>\n",
       "      <td>ARB</td>\n",
       "      <td>1970</td>\n",
       "      <td>2.602241</td>\n",
       "    </tr>\n",
       "    <tr>\n",
       "      <th>2</th>\n",
       "      <td>Arab World</td>\n",
       "      <td>ARB</td>\n",
       "      <td>1971</td>\n",
       "      <td>6.884719</td>\n",
       "    </tr>\n",
       "    <tr>\n",
       "      <th>3</th>\n",
       "      <td>Arab World</td>\n",
       "      <td>ARB</td>\n",
       "      <td>1972</td>\n",
       "      <td>2.496081</td>\n",
       "    </tr>\n",
       "    <tr>\n",
       "      <th>4</th>\n",
       "      <td>Arab World</td>\n",
       "      <td>ARB</td>\n",
       "      <td>1973</td>\n",
       "      <td>11.555281</td>\n",
       "    </tr>\n",
       "  </tbody>\n",
       "</table>\n",
       "</div>"
      ],
      "text/plain": [
       "      Country Country Code  Year  Inflation\n",
       "0  Arab World          ARB  1969   1.303790\n",
       "1  Arab World          ARB  1970   2.602241\n",
       "2  Arab World          ARB  1971   6.884719\n",
       "3  Arab World          ARB  1972   2.496081\n",
       "4  Arab World          ARB  1973  11.555281"
      ]
     },
     "execution_count": 8,
     "metadata": {},
     "output_type": "execute_result"
    }
   ],
   "source": [
    "df_inflation = pd.read_csv('https://datahub.io/core/inflation/r/inflation-gdp.csv')\n",
    "df_inflation.head()"
   ]
  },
  {
   "cell_type": "code",
   "execution_count": null,
   "metadata": {},
   "outputs": [],
   "source": [
    "df_inflation[df_inflation['Country'] == \"Spain\"]"
   ]
  },
  {
   "attachments": {},
   "cell_type": "markdown",
   "metadata": {
    "colab_type": "text",
    "id": "G8fjA0nyhonR"
   },
   "source": [
    "## Bajar datos de Bicimad\n",
    "\n",
    "Podemos usar la librería request para descargar un fichero con datos"
   ]
  },
  {
   "cell_type": "code",
   "execution_count": 9,
   "metadata": {
    "tags": []
   },
   "outputs": [],
   "source": [
    "url = 'https://opendata.emtmadrid.es/getattachment/c3383795-121b-4ebf-98b4-c7b05e902eaf/202106_movements.aspx'\n",
    "\n",
    "r = requests.get(url)"
   ]
  },
  {
   "cell_type": "code",
   "execution_count": 10,
   "metadata": {},
   "outputs": [
    {
     "data": {
      "text/plain": [
       "<Response [200]>"
      ]
     },
     "execution_count": 10,
     "metadata": {},
     "output_type": "execute_result"
    }
   ],
   "source": [
    "r"
   ]
  },
  {
   "cell_type": "code",
   "execution_count": 11,
   "metadata": {},
   "outputs": [],
   "source": [
    "# Guardamos el zip\n",
    "filename = 'data/bicis.zip'\n",
    "with open(filename, 'wb') as f:\n",
    "   f.write(r.content)"
   ]
  },
  {
   "cell_type": "code",
   "execution_count": 10,
   "metadata": {
    "colab": {},
    "colab_type": "code",
    "id": "uVRFbVZrhonV"
   },
   "outputs": [],
   "source": [
    "# Extraemos lo que hay dentro\n",
    "filename = 'data/bicis.zip'\n",
    "with zipfile.ZipFile(filename, 'r') as zip_ref:\n",
    "    zip_ref.extractall(\"data/\")"
   ]
  },
  {
   "cell_type": "code",
   "execution_count": 13,
   "metadata": {
    "colab": {},
    "colab_type": "code",
    "id": "uNGffwephonX"
   },
   "outputs": [],
   "source": [
    "# Leemos los datos\n",
    "datos_bicis = pd.read_json('data/202106_movements.json', lines=True, encoding='latin-1', nrows=10000)"
   ]
  },
  {
   "cell_type": "code",
   "execution_count": 15,
   "metadata": {
    "colab": {
     "base_uri": "https://localhost:8080/",
     "height": 309
    },
    "colab_type": "code",
    "id": "CF9u6xluhonZ",
    "outputId": "2e4e08fe-735e-4d35-ced1-2c83fc2fc743"
   },
   "outputs": [
    {
     "data": {
      "text/html": [
       "<div>\n",
       "<style scoped>\n",
       "    .dataframe tbody tr th:only-of-type {\n",
       "        vertical-align: middle;\n",
       "    }\n",
       "\n",
       "    .dataframe tbody tr th {\n",
       "        vertical-align: top;\n",
       "    }\n",
       "\n",
       "    .dataframe thead th {\n",
       "        text-align: right;\n",
       "    }\n",
       "</style>\n",
       "<table border=\"1\" class=\"dataframe\">\n",
       "  <thead>\n",
       "    <tr style=\"text-align: right;\">\n",
       "      <th></th>\n",
       "      <th>_id</th>\n",
       "      <th>user_day_code</th>\n",
       "      <th>idplug_base</th>\n",
       "      <th>user_type</th>\n",
       "      <th>idunplug_base</th>\n",
       "      <th>travel_time</th>\n",
       "      <th>idunplug_station</th>\n",
       "      <th>ageRange</th>\n",
       "      <th>idplug_station</th>\n",
       "      <th>unplug_hourTime</th>\n",
       "      <th>zip_code</th>\n",
       "    </tr>\n",
       "  </thead>\n",
       "  <tbody>\n",
       "    <tr>\n",
       "      <th>0</th>\n",
       "      <td>{'$oid': '60bbf3f21b91311d90d568ad'}</td>\n",
       "      <td>b67ea824acf706087d5818ebc6f90821a5abaab17a0868...</td>\n",
       "      <td>15</td>\n",
       "      <td>1</td>\n",
       "      <td>13</td>\n",
       "      <td>319</td>\n",
       "      <td>38</td>\n",
       "      <td>0</td>\n",
       "      <td>54</td>\n",
       "      <td>2021-06-01T00:00:00Z</td>\n",
       "      <td></td>\n",
       "    </tr>\n",
       "    <tr>\n",
       "      <th>1</th>\n",
       "      <td>{'$oid': '60bbf3f21b91311d90d568b2'}</td>\n",
       "      <td>364b1b99f1f9a1748f7abf1134c8d6a46197b583649308...</td>\n",
       "      <td>7</td>\n",
       "      <td>1</td>\n",
       "      <td>1</td>\n",
       "      <td>386</td>\n",
       "      <td>185</td>\n",
       "      <td>0</td>\n",
       "      <td>126</td>\n",
       "      <td>2021-06-01T00:00:00Z</td>\n",
       "      <td></td>\n",
       "    </tr>\n",
       "    <tr>\n",
       "      <th>2</th>\n",
       "      <td>{'$oid': '60bbf3f21b91311d90d568b3'}</td>\n",
       "      <td>5cc17031cba02835dda4b6c153b56572beaade54d8ab91...</td>\n",
       "      <td>14</td>\n",
       "      <td>1</td>\n",
       "      <td>10</td>\n",
       "      <td>465</td>\n",
       "      <td>15</td>\n",
       "      <td>0</td>\n",
       "      <td>91</td>\n",
       "      <td>2021-06-01T00:00:00Z</td>\n",
       "      <td></td>\n",
       "    </tr>\n",
       "    <tr>\n",
       "      <th>3</th>\n",
       "      <td>{'$oid': '60bbf3f21b91311d90d568b4'}</td>\n",
       "      <td>6e855acaaa17d6d14236598c0f1172c783e16950e39c01...</td>\n",
       "      <td>8</td>\n",
       "      <td>1</td>\n",
       "      <td>22</td>\n",
       "      <td>613</td>\n",
       "      <td>84</td>\n",
       "      <td>0</td>\n",
       "      <td>236</td>\n",
       "      <td>2021-06-01T00:00:00Z</td>\n",
       "      <td></td>\n",
       "    </tr>\n",
       "    <tr>\n",
       "      <th>4</th>\n",
       "      <td>{'$oid': '60bbf3f21b91311d90d568b5'}</td>\n",
       "      <td>e93417502d55208995a61f4177956ab9289aba39044ce3...</td>\n",
       "      <td>1</td>\n",
       "      <td>1</td>\n",
       "      <td>4</td>\n",
       "      <td>751</td>\n",
       "      <td>131</td>\n",
       "      <td>5</td>\n",
       "      <td>94</td>\n",
       "      <td>2021-06-01T00:00:00Z</td>\n",
       "      <td>28006</td>\n",
       "    </tr>\n",
       "  </tbody>\n",
       "</table>\n",
       "</div>"
      ],
      "text/plain": [
       "                                    _id  \\\n",
       "0  {'$oid': '60bbf3f21b91311d90d568ad'}   \n",
       "1  {'$oid': '60bbf3f21b91311d90d568b2'}   \n",
       "2  {'$oid': '60bbf3f21b91311d90d568b3'}   \n",
       "3  {'$oid': '60bbf3f21b91311d90d568b4'}   \n",
       "4  {'$oid': '60bbf3f21b91311d90d568b5'}   \n",
       "\n",
       "                                       user_day_code  idplug_base  user_type  \\\n",
       "0  b67ea824acf706087d5818ebc6f90821a5abaab17a0868...           15          1   \n",
       "1  364b1b99f1f9a1748f7abf1134c8d6a46197b583649308...            7          1   \n",
       "2  5cc17031cba02835dda4b6c153b56572beaade54d8ab91...           14          1   \n",
       "3  6e855acaaa17d6d14236598c0f1172c783e16950e39c01...            8          1   \n",
       "4  e93417502d55208995a61f4177956ab9289aba39044ce3...            1          1   \n",
       "\n",
       "   idunplug_base  travel_time  idunplug_station  ageRange  idplug_station  \\\n",
       "0             13          319                38         0              54   \n",
       "1              1          386               185         0             126   \n",
       "2             10          465                15         0              91   \n",
       "3             22          613                84         0             236   \n",
       "4              4          751               131         5              94   \n",
       "\n",
       "        unplug_hourTime zip_code  \n",
       "0  2021-06-01T00:00:00Z           \n",
       "1  2021-06-01T00:00:00Z           \n",
       "2  2021-06-01T00:00:00Z           \n",
       "3  2021-06-01T00:00:00Z           \n",
       "4  2021-06-01T00:00:00Z    28006  "
      ]
     },
     "execution_count": 15,
     "metadata": {},
     "output_type": "execute_result"
    }
   ],
   "source": [
    "# Vemos qué pinta tienen\n",
    "datos_bicis.head()"
   ]
  },
  {
   "cell_type": "code",
   "execution_count": 16,
   "metadata": {},
   "outputs": [
    {
     "name": "stdout",
     "output_type": "stream",
     "text": [
      "<class 'pandas.core.frame.DataFrame'>\n",
      "RangeIndex: 10000 entries, 0 to 9999\n",
      "Data columns (total 11 columns):\n",
      " #   Column            Non-Null Count  Dtype \n",
      "---  ------            --------------  ----- \n",
      " 0   _id               10000 non-null  object\n",
      " 1   user_day_code     10000 non-null  object\n",
      " 2   idplug_base       10000 non-null  int64 \n",
      " 3   user_type         10000 non-null  int64 \n",
      " 4   idunplug_base     10000 non-null  int64 \n",
      " 5   travel_time       10000 non-null  int64 \n",
      " 6   idunplug_station  10000 non-null  int64 \n",
      " 7   ageRange          10000 non-null  int64 \n",
      " 8   idplug_station    10000 non-null  int64 \n",
      " 9   unplug_hourTime   10000 non-null  object\n",
      " 10  zip_code          10000 non-null  object\n",
      "dtypes: int64(7), object(4)\n",
      "memory usage: 859.5+ KB\n"
     ]
    }
   ],
   "source": [
    "datos_bicis.info()"
   ]
  },
  {
   "cell_type": "code",
   "execution_count": 17,
   "metadata": {},
   "outputs": [
    {
     "data": {
      "text/plain": [
       "array(['', '28006', '28004', '28045', '28028', '28009', '28007', '28005',\n",
       "       '28010', '28034', '28012', '28001', '28008', '28015', '28002',\n",
       "       '28105', 'CODIGO_POSTAL_NOT_DEF', '28013', '39724', '28100',\n",
       "       '28800', '28027', '28020', '28011', '28014', '28850', '15002',\n",
       "       '28003', '45007', '28046', '28039', '28043', '28038', '28934',\n",
       "       '28016', '28945', '28221', '28033', '28030', '28029', '28048',\n",
       "       '28054', '28035', '35572', '28049', '28004 ', '28019', '28040',\n",
       "       '28941', '28523', '28380', '28933', '28026', '45600', '28938',\n",
       "       '28220', '28935', '28760', '28863', '28018', '28250', '28053',\n",
       "       '28017', '28024', '28823', '28021', '28922', '28210', '28022',\n",
       "       '28036', '28047', '28430', '28041', '46009', '28770', '28031',\n",
       "       '28200', '46026', '20540', '28232', '28042', '28071', '18006',\n",
       "       '28400', '62973', '2', '28521', '28822', '28411', '28229', '48520',\n",
       "       '29039', '28260', '28055', '28942', '28815', '28037', '28702',\n",
       "       '28707', '28701', '28290', '28691', '28460', '28936', '28915',\n",
       "       '28025', '28750', '28905', '28223', '75014', '28891', '28903',\n",
       "       '23009', '28023', '28660', '28006 ', '28924', '28911', '28032',\n",
       "       '28801', '10318', '28803', '29740', '28051', '28342', '28912',\n",
       "       '28064', '28299', '33206', '28791', '28028 ', '09006', '28917',\n",
       "       '19160', '28923', '28350', '29045', '23012', '28670', '28044',\n",
       "       '28909', '28450', '28906', '28231'], dtype=object)"
      ]
     },
     "execution_count": 17,
     "metadata": {},
     "output_type": "execute_result"
    }
   ],
   "source": [
    "datos_bicis['zip_code'].unique()"
   ]
  },
  {
   "attachments": {},
   "cell_type": "markdown",
   "metadata": {},
   "source": [
    "# Acceso a archivos de la pagina de datos.gob.es\n",
    "Uno de los mayores catálogos de información pública descargable en España"
   ]
  },
  {
   "attachments": {},
   "cell_type": "markdown",
   "metadata": {},
   "source": [
    "<table align=\"left\">\n",
    " <tr><td width=\"80\"><img src=\"./img/ejercicio.png\" style=\"width:auto;height:auto\"></td>\n",
    "     <td style=\"text-align:left\">\n",
    "         <h3>Ejercicio datos.gob.es</h3>\n",
    "\n",
    "Descarga con pandas un dataset de la página https://datos.gob.es/es/catalogo acerca del empleo y guárdalo en un csv en la carpeta data.\n",
    "         \n",
    " </td></tr>\n",
    "</table>"
   ]
  },
  {
   "cell_type": "code",
   "execution_count": 19,
   "metadata": {},
   "outputs": [],
   "source": [
    "url = \"https://dadesobertes.gva.es/dataset/e9b02404-1755-4965-8f5b-917b43dc0368/resource/8a61dfcf-fb24-46e7-9b62-30ad193ec77c/download/contratos_por_municipio-sector-grupo_ocupacion-genero-edad-2018.csv\"\n",
    "datos_empleo = pd.read_csv(url, sep=\";\")"
   ]
  },
  {
   "cell_type": "code",
   "execution_count": 20,
   "metadata": {},
   "outputs": [
    {
     "data": {
      "text/html": [
       "<div>\n",
       "<style scoped>\n",
       "    .dataframe tbody tr th:only-of-type {\n",
       "        vertical-align: middle;\n",
       "    }\n",
       "\n",
       "    .dataframe tbody tr th {\n",
       "        vertical-align: top;\n",
       "    }\n",
       "\n",
       "    .dataframe thead th {\n",
       "        text-align: right;\n",
       "    }\n",
       "</style>\n",
       "<table border=\"1\" class=\"dataframe\">\n",
       "  <thead>\n",
       "    <tr style=\"text-align: right;\">\n",
       "      <th></th>\n",
       "      <th>ANYO</th>\n",
       "      <th>MES</th>\n",
       "      <th>COD_PROV</th>\n",
       "      <th>NOM_PROV</th>\n",
       "      <th>COD_MUN</th>\n",
       "      <th>NOM_MUN</th>\n",
       "      <th>COD_SECTOR</th>\n",
       "      <th>DESC_SECTOR</th>\n",
       "      <th>COD_GRUPO</th>\n",
       "      <th>DESC_GRUPO</th>\n",
       "      <th>COD_GENERO</th>\n",
       "      <th>DESC_GENERO</th>\n",
       "      <th>RANGO_EDAD</th>\n",
       "      <th>NUM_CONTRATOS</th>\n",
       "    </tr>\n",
       "  </thead>\n",
       "  <tbody>\n",
       "    <tr>\n",
       "      <th>0</th>\n",
       "      <td>2018</td>\n",
       "      <td>1</td>\n",
       "      <td>46</td>\n",
       "      <td>VALENCIA</td>\n",
       "      <td>22</td>\n",
       "      <td>ALFAFAR</td>\n",
       "      <td>S</td>\n",
       "      <td>Servicios</td>\n",
       "      <td>5</td>\n",
       "      <td>Trabajadores de los servicios de restauración,...</td>\n",
       "      <td>M</td>\n",
       "      <td>Mujer</td>\n",
       "      <td>25-44</td>\n",
       "      <td>2</td>\n",
       "    </tr>\n",
       "    <tr>\n",
       "      <th>1</th>\n",
       "      <td>2018</td>\n",
       "      <td>1</td>\n",
       "      <td>46</td>\n",
       "      <td>VALENCIA</td>\n",
       "      <td>163</td>\n",
       "      <td>MASSALFASSAR</td>\n",
       "      <td>C</td>\n",
       "      <td>Construccion</td>\n",
       "      <td>4</td>\n",
       "      <td>Empleados contables, administrativos y otros e...</td>\n",
       "      <td>M</td>\n",
       "      <td>Mujer</td>\n",
       "      <td>&gt;44</td>\n",
       "      <td>1</td>\n",
       "    </tr>\n",
       "    <tr>\n",
       "      <th>2</th>\n",
       "      <td>2018</td>\n",
       "      <td>1</td>\n",
       "      <td>46</td>\n",
       "      <td>VALENCIA</td>\n",
       "      <td>186</td>\n",
       "      <td>PAIPORTA</td>\n",
       "      <td>I</td>\n",
       "      <td>Industria</td>\n",
       "      <td>9</td>\n",
       "      <td>Ocupaciones elementales</td>\n",
       "      <td>H</td>\n",
       "      <td>Hombre</td>\n",
       "      <td>25-44</td>\n",
       "      <td>1</td>\n",
       "    </tr>\n",
       "    <tr>\n",
       "      <th>3</th>\n",
       "      <td>2018</td>\n",
       "      <td>1</td>\n",
       "      <td>46</td>\n",
       "      <td>VALENCIA</td>\n",
       "      <td>15</td>\n",
       "      <td>ALCASSER</td>\n",
       "      <td>S</td>\n",
       "      <td>Servicios</td>\n",
       "      <td>3</td>\n",
       "      <td>Técnicos, profesionales de apoyo</td>\n",
       "      <td>M</td>\n",
       "      <td>Mujer</td>\n",
       "      <td>25-44</td>\n",
       "      <td>1</td>\n",
       "    </tr>\n",
       "    <tr>\n",
       "      <th>4</th>\n",
       "      <td>2018</td>\n",
       "      <td>1</td>\n",
       "      <td>46</td>\n",
       "      <td>VALENCIA</td>\n",
       "      <td>250</td>\n",
       "      <td>VALENCIA</td>\n",
       "      <td>S</td>\n",
       "      <td>Servicios</td>\n",
       "      <td>1</td>\n",
       "      <td>Directores y gerentes</td>\n",
       "      <td>M</td>\n",
       "      <td>Mujer</td>\n",
       "      <td>25-44</td>\n",
       "      <td>1</td>\n",
       "    </tr>\n",
       "  </tbody>\n",
       "</table>\n",
       "</div>"
      ],
      "text/plain": [
       "   ANYO  MES  COD_PROV  NOM_PROV  COD_MUN       NOM_MUN COD_SECTOR  \\\n",
       "0  2018    1        46  VALENCIA       22       ALFAFAR         S    \n",
       "1  2018    1        46  VALENCIA      163  MASSALFASSAR         C    \n",
       "2  2018    1        46  VALENCIA      186      PAIPORTA         I    \n",
       "3  2018    1        46  VALENCIA       15      ALCASSER         S    \n",
       "4  2018    1        46  VALENCIA      250      VALENCIA         S    \n",
       "\n",
       "    DESC_SECTOR  COD_GRUPO                                         DESC_GRUPO  \\\n",
       "0     Servicios          5  Trabajadores de los servicios de restauración,...   \n",
       "1  Construccion          4  Empleados contables, administrativos y otros e...   \n",
       "2     Industria          9                            Ocupaciones elementales   \n",
       "3     Servicios          3                   Técnicos, profesionales de apoyo   \n",
       "4     Servicios          1                              Directores y gerentes   \n",
       "\n",
       "  COD_GENERO DESC_GENERO RANGO_EDAD  NUM_CONTRATOS  \n",
       "0          M       Mujer      25-44              2  \n",
       "1          M       Mujer      >44                1  \n",
       "2          H      Hombre      25-44              1  \n",
       "3          M       Mujer      25-44              1  \n",
       "4          M       Mujer      25-44              1  "
      ]
     },
     "execution_count": 20,
     "metadata": {},
     "output_type": "execute_result"
    }
   ],
   "source": [
    "datos_empleo.head()"
   ]
  },
  {
   "cell_type": "code",
   "execution_count": 21,
   "metadata": {},
   "outputs": [],
   "source": [
    "datos_empleo.to_csv('data/datos_empleo_vlc_2018.csv')"
   ]
  },
  {
   "attachments": {},
   "cell_type": "markdown",
   "metadata": {},
   "source": [
    "# OpenStreetMap\n",
    "\n",
    "Vamos a usar una API para obtener información.\n",
    "\n",
    "Es muy importante mirarse la documentación de cada API que se vaya a usar para saber cuales son los inputs que necesita."
   ]
  },
  {
   "cell_type": "code",
   "execution_count": 13,
   "metadata": {},
   "outputs": [
    {
     "name": "stdout",
     "output_type": "stream",
     "text": [
      "<Response [200]>\n"
     ]
    }
   ],
   "source": [
    "# Amenities\n",
    "# https://wiki.openstreetmap.org/wiki/Key:amenity\n",
    "\n",
    "overpass_url = \"http://overpass-api.de/api/interpreter\"\n",
    "\n",
    "overpass_query = \"\"\"\n",
    "[out:json];\n",
    "node[\"amenity\"=\"cafe\"]\n",
    "  (40.420801, -3.694702,40.423754, -3.688167); \n",
    "out;\n",
    "\"\"\"\n",
    "response = requests.get(overpass_url, \n",
    "                        params={'data': overpass_query})\n",
    "print(response)\n",
    "data = response.json()"
   ]
  },
  {
   "cell_type": "code",
   "execution_count": 17,
   "metadata": {
    "collapsed": true,
    "jupyter": {
     "outputs_hidden": true
    },
    "tags": []
   },
   "outputs": [
    {
     "data": {
      "text/plain": [
       "{'version': 0.6,\n",
       " 'generator': 'Overpass API 0.7.60 f4c14d41',\n",
       " 'osm3s': {'timestamp_osm_base': '2023-05-11T10:18:39Z',\n",
       "  'copyright': 'The data included in this document is from www.openstreetmap.org. The data is made available under ODbL.'},\n",
       " 'elements': [{'type': 'node',\n",
       "   'id': 2977298934,\n",
       "   'lat': 40.4210523,\n",
       "   'lon': -3.689841,\n",
       "   'tags': {'addr:city': 'Madrid',\n",
       "    'addr:housenumber': '4',\n",
       "    'addr:street': 'Calle de Villalar',\n",
       "    'amenity': 'cafe',\n",
       "    'cuisine': 'regional',\n",
       "    'internet_access': 'yes',\n",
       "    'name': 'Café Villalar',\n",
       "    'payment:bitcoin': 'yes',\n",
       "    'phone': '+34 914358937',\n",
       "    'website': 'https://cafeteriavillalar.eatbu.com/'}},\n",
       "  {'type': 'node',\n",
       "   'id': 3426617375,\n",
       "   'lat': 40.4221948,\n",
       "   'lon': -3.6923421,\n",
       "   'tags': {'amenity': 'cafe',\n",
       "    'name': 'Gran Café Gijón',\n",
       "    'phone': '+34 915 215 425',\n",
       "    'website': 'https://cafegijon.com/',\n",
       "    'wikidata': 'Q1025608',\n",
       "    'wikipedia': 'es:Café Gijón'}},\n",
       "  {'type': 'node',\n",
       "   'id': 4703448419,\n",
       "   'lat': 40.4229908,\n",
       "   'lon': -3.6936524,\n",
       "   'tags': {'addr:city': 'Madrid',\n",
       "    'addr:housenumber': '6',\n",
       "    'addr:postcode': '28004',\n",
       "    'addr:street': 'Calle del Marqués de Monasterio',\n",
       "    'amenity': 'cafe',\n",
       "    'contact:facebook': 'https://www.facebook.com/hermanasae',\n",
       "    'contact:instagram': 'https://www.instagram.com/hermanasarce/',\n",
       "    'cuisine': 'cake',\n",
       "    'disused:amenity': 'restaurant',\n",
       "    'name': 'Hermanas Arce',\n",
       "    'old_name': 'Noteolvides',\n",
       "    'opening_hours': 'Tu, We 09:00-17:00; Th, Fr 09:00-17:30; Sa 09:30-17:30'}},\n",
       "  {'type': 'node',\n",
       "   'id': 4778747544,\n",
       "   'lat': 40.4223247,\n",
       "   'lon': -3.6909735,\n",
       "   'tags': {'addr:city': 'Madrid',\n",
       "    'addr:housenumber': '1',\n",
       "    'addr:postcode': '28001',\n",
       "    'addr:street': 'Calle de Recoletos',\n",
       "    'amenity': 'cafe',\n",
       "    'brand': 'Santagloria',\n",
       "    'brand:wikidata': 'Q54606497',\n",
       "    'contact:phone': '+34 914319000',\n",
       "    'contact:website': 'https://www.santagloria.com',\n",
       "    'name': 'Santagloria',\n",
       "    'shop': 'bakery'}},\n",
       "  {'type': 'node',\n",
       "   'id': 9207850217,\n",
       "   'lat': 40.4218751,\n",
       "   'lon': -3.6901227,\n",
       "   'tags': {'amenity': 'cafe', 'name': 'masticar'}}]}"
      ]
     },
     "execution_count": 17,
     "metadata": {},
     "output_type": "execute_result"
    }
   ],
   "source": [
    "data"
   ]
  },
  {
   "cell_type": "code",
   "execution_count": 26,
   "metadata": {},
   "outputs": [
    {
     "data": {
      "text/plain": [
       "dict_keys(['version', 'generator', 'osm3s', 'elements'])"
      ]
     },
     "execution_count": 26,
     "metadata": {},
     "output_type": "execute_result"
    }
   ],
   "source": [
    "data.keys()"
   ]
  },
  {
   "cell_type": "code",
   "execution_count": 19,
   "metadata": {},
   "outputs": [
    {
     "data": {
      "text/plain": [
       "{'timestamp_osm_base': '2023-05-11T10:18:39Z',\n",
       " 'copyright': 'The data included in this document is from www.openstreetmap.org. The data is made available under ODbL.'}"
      ]
     },
     "execution_count": 19,
     "metadata": {},
     "output_type": "execute_result"
    }
   ],
   "source": [
    "data.get('osm3s')                           # Esto es lo mismo que data['osm3s'], solo que usas la función get"
   ]
  },
  {
   "attachments": {},
   "cell_type": "markdown",
   "metadata": {},
   "source": [
    "Podemos movernos aquí siguiendo para ver la información de cada key"
   ]
  },
  {
   "cell_type": "code",
   "execution_count": 28,
   "metadata": {},
   "outputs": [
    {
     "data": {
      "text/plain": [
       "'The data included in this document is from www.openstreetmap.org. The data is made available under ODbL.'"
      ]
     },
     "execution_count": 28,
     "metadata": {},
     "output_type": "execute_result"
    }
   ],
   "source": [
    "data['osm3s']['copyright']"
   ]
  },
  {
   "cell_type": "code",
   "execution_count": 32,
   "metadata": {},
   "outputs": [
    {
     "data": {
      "text/plain": [
       "'Café Villalar'"
      ]
     },
     "execution_count": 32,
     "metadata": {},
     "output_type": "execute_result"
    }
   ],
   "source": [
    "data['elements'][0]['tags']['name']"
   ]
  },
  {
   "cell_type": "code",
   "execution_count": 14,
   "metadata": {},
   "outputs": [
    {
     "name": "stdout",
     "output_type": "stream",
     "text": [
      "{'type': 'node', 'id': 2977298934, 'lat': 40.4210523, 'lon': -3.689841, 'tags': {'addr:city': 'Madrid', 'addr:housenumber': '4', 'addr:street': 'Calle de Villalar', 'amenity': 'cafe', 'cuisine': 'regional', 'internet_access': 'yes', 'name': 'Café Villalar', 'payment:bitcoin': 'yes', 'website': 'http://www.cafevillalar.com/'}}\n",
      "{'type': 'node', 'id': 3426617375, 'lat': 40.4221948, 'lon': -3.6923421, 'tags': {'amenity': 'cafe', 'name': 'Gran Café Gijón', 'phone': '+34 915 215 425', 'website': 'https://cafegijon.com/', 'wikidata': 'Q1025608', 'wikipedia': 'es:Café Gijón'}}\n",
      "{'type': 'node', 'id': 4703448419, 'lat': 40.4229908, 'lon': -3.6936524, 'tags': {'addr:city': 'Madrid', 'addr:housenumber': '6', 'addr:postcode': '28004', 'addr:street': 'Calle del Marqués de Monasterio', 'amenity': 'cafe', 'contact:facebook': 'https://www.facebook.com/hermanasae', 'contact:instagram': 'https://www.instagram.com/hermanasarce/', 'cuisine': 'cake', 'disused:amenity': 'restaurant', 'name': 'Hermanas Arce', 'old_name': 'Noteolvides', 'opening_hours': 'Tu, We 09:00-17:00; Th, Fr 09:00-17:30; Sa 09:30-17:30'}}\n",
      "{'type': 'node', 'id': 9207850217, 'lat': 40.4218751, 'lon': -3.6901227, 'tags': {'amenity': 'cafe', 'name': 'masticar'}}\n"
     ]
    }
   ],
   "source": [
    "for element in data['elements']:\n",
    "    print(element)"
   ]
  },
  {
   "cell_type": "code",
   "execution_count": 35,
   "metadata": {},
   "outputs": [
    {
     "data": {
      "text/plain": [
       "[{'type': 'node',\n",
       "  'id': 2977298934,\n",
       "  'lat': 40.4210523,\n",
       "  'lon': -3.689841,\n",
       "  'tags': {'addr:city': 'Madrid',\n",
       "   'addr:housenumber': '4',\n",
       "   'addr:street': 'Calle de Villalar',\n",
       "   'amenity': 'cafe',\n",
       "   'cuisine': 'regional',\n",
       "   'internet_access': 'yes',\n",
       "   'name': 'Café Villalar',\n",
       "   'payment:bitcoin': 'yes',\n",
       "   'website': 'http://www.cafevillalar.com/'}},\n",
       " {'type': 'node',\n",
       "  'id': 3426617375,\n",
       "  'lat': 40.4221948,\n",
       "  'lon': -3.6923421,\n",
       "  'tags': {'amenity': 'cafe',\n",
       "   'name': 'Gran Café Gijón',\n",
       "   'phone': '+34 915 215 425',\n",
       "   'website': 'https://cafegijon.com/',\n",
       "   'wikidata': 'Q1025608',\n",
       "   'wikipedia': 'es:Café Gijón'}},\n",
       " {'type': 'node',\n",
       "  'id': 4703448419,\n",
       "  'lat': 40.4229908,\n",
       "  'lon': -3.6936524,\n",
       "  'tags': {'addr:city': 'Madrid',\n",
       "   'addr:housenumber': '6',\n",
       "   'addr:postcode': '28004',\n",
       "   'addr:street': 'Calle del Marqués de Monasterio',\n",
       "   'amenity': 'cafe',\n",
       "   'contact:facebook': 'https://www.facebook.com/hermanasae',\n",
       "   'contact:instagram': 'https://www.instagram.com/hermanasarce/',\n",
       "   'cuisine': 'cake',\n",
       "   'disused:amenity': 'restaurant',\n",
       "   'name': 'Hermanas Arce',\n",
       "   'old_name': 'Noteolvides',\n",
       "   'opening_hours': 'Tu, We 09:00-17:00; Th, Fr 09:00-17:30; Sa 09:30-17:30'}},\n",
       " {'type': 'node',\n",
       "  'id': 9207850217,\n",
       "  'lat': 40.4218751,\n",
       "  'lon': -3.6901227,\n",
       "  'tags': {'amenity': 'cafe', 'name': 'masticar'}}]"
      ]
     },
     "execution_count": 35,
     "metadata": {},
     "output_type": "execute_result"
    }
   ],
   "source": [
    "data['elements']"
   ]
  },
  {
   "cell_type": "code",
   "execution_count": 22,
   "metadata": {},
   "outputs": [
    {
     "data": {
      "text/html": [
       "<div>\n",
       "<style scoped>\n",
       "    .dataframe tbody tr th:only-of-type {\n",
       "        vertical-align: middle;\n",
       "    }\n",
       "\n",
       "    .dataframe tbody tr th {\n",
       "        vertical-align: top;\n",
       "    }\n",
       "\n",
       "    .dataframe thead th {\n",
       "        text-align: right;\n",
       "    }\n",
       "</style>\n",
       "<table border=\"1\" class=\"dataframe\">\n",
       "  <thead>\n",
       "    <tr style=\"text-align: right;\">\n",
       "      <th></th>\n",
       "      <th>type</th>\n",
       "      <th>id</th>\n",
       "      <th>lat</th>\n",
       "      <th>lon</th>\n",
       "      <th>tags</th>\n",
       "    </tr>\n",
       "  </thead>\n",
       "  <tbody>\n",
       "    <tr>\n",
       "      <th>0</th>\n",
       "      <td>node</td>\n",
       "      <td>2977298934</td>\n",
       "      <td>40.421052</td>\n",
       "      <td>-3.689841</td>\n",
       "      <td>{'addr:city': 'Madrid', 'addr:housenumber': '4...</td>\n",
       "    </tr>\n",
       "    <tr>\n",
       "      <th>1</th>\n",
       "      <td>node</td>\n",
       "      <td>3426617375</td>\n",
       "      <td>40.422195</td>\n",
       "      <td>-3.692342</td>\n",
       "      <td>{'amenity': 'cafe', 'name': 'Gran Café Gijón',...</td>\n",
       "    </tr>\n",
       "    <tr>\n",
       "      <th>2</th>\n",
       "      <td>node</td>\n",
       "      <td>4703448419</td>\n",
       "      <td>40.422991</td>\n",
       "      <td>-3.693652</td>\n",
       "      <td>{'addr:city': 'Madrid', 'addr:housenumber': '6...</td>\n",
       "    </tr>\n",
       "    <tr>\n",
       "      <th>3</th>\n",
       "      <td>node</td>\n",
       "      <td>4778747544</td>\n",
       "      <td>40.422325</td>\n",
       "      <td>-3.690974</td>\n",
       "      <td>{'addr:city': 'Madrid', 'addr:housenumber': '1...</td>\n",
       "    </tr>\n",
       "    <tr>\n",
       "      <th>4</th>\n",
       "      <td>node</td>\n",
       "      <td>9207850217</td>\n",
       "      <td>40.421875</td>\n",
       "      <td>-3.690123</td>\n",
       "      <td>{'amenity': 'cafe', 'name': 'masticar'}</td>\n",
       "    </tr>\n",
       "  </tbody>\n",
       "</table>\n",
       "</div>"
      ],
      "text/plain": [
       "   type          id        lat       lon  \\\n",
       "0  node  2977298934  40.421052 -3.689841   \n",
       "1  node  3426617375  40.422195 -3.692342   \n",
       "2  node  4703448419  40.422991 -3.693652   \n",
       "3  node  4778747544  40.422325 -3.690974   \n",
       "4  node  9207850217  40.421875 -3.690123   \n",
       "\n",
       "                                                tags  \n",
       "0  {'addr:city': 'Madrid', 'addr:housenumber': '4...  \n",
       "1  {'amenity': 'cafe', 'name': 'Gran Café Gijón',...  \n",
       "2  {'addr:city': 'Madrid', 'addr:housenumber': '6...  \n",
       "3  {'addr:city': 'Madrid', 'addr:housenumber': '1...  \n",
       "4            {'amenity': 'cafe', 'name': 'masticar'}  "
      ]
     },
     "execution_count": 22,
     "metadata": {},
     "output_type": "execute_result"
    }
   ],
   "source": [
    "pd.DataFrame(data['elements'])"
   ]
  },
  {
   "cell_type": "code",
   "execution_count": 43,
   "metadata": {
    "collapsed": true,
    "jupyter": {
     "outputs_hidden": true
    },
    "tags": []
   },
   "outputs": [],
   "source": [
    "def json_to_dataframe(data_entrada):\n",
    "    elements = data_entrada['elements']\n",
    "    places = {'lat': [], 'lon': [], 'name': [], 'address': []}\n",
    "\n",
    "    for i in elements:\n",
    "        lalitude = i['lat']\n",
    "        longitude = i['lon']\n",
    "        name = i['tags'].get('name')\n",
    "        street = i['tags'].get('addr:street', 'Sin calle')\n",
    "        number = i['tags'].get('addr:housenumber', 0)\n",
    "        \n",
    "        places['lat'].append(lalitude)\n",
    "        places['lon'].append(longitude)\n",
    "        places['name'].append(name)\n",
    "        places['address'].append(str(street) + ' ' + str(number))\n",
    "\n",
    "    df = pd.DataFrame(places)\n",
    "    return df"
   ]
  },
  {
   "cell_type": "code",
   "execution_count": 41,
   "metadata": {},
   "outputs": [
    {
     "data": {
      "text/plain": [
       "{'amenity': 'cafe',\n",
       " 'name': 'Gran Café Gijón',\n",
       " 'phone': '+34 915 215 425',\n",
       " 'website': 'https://cafegijon.com/',\n",
       " 'wikidata': 'Q1025608',\n",
       " 'wikipedia': 'es:Café Gijón'}"
      ]
     },
     "execution_count": 41,
     "metadata": {},
     "output_type": "execute_result"
    }
   ],
   "source": [
    "data['elements'][1]['tags']"
   ]
  },
  {
   "cell_type": "code",
   "execution_count": 44,
   "metadata": {},
   "outputs": [
    {
     "data": {
      "text/html": [
       "<div>\n",
       "<style scoped>\n",
       "    .dataframe tbody tr th:only-of-type {\n",
       "        vertical-align: middle;\n",
       "    }\n",
       "\n",
       "    .dataframe tbody tr th {\n",
       "        vertical-align: top;\n",
       "    }\n",
       "\n",
       "    .dataframe thead th {\n",
       "        text-align: right;\n",
       "    }\n",
       "</style>\n",
       "<table border=\"1\" class=\"dataframe\">\n",
       "  <thead>\n",
       "    <tr style=\"text-align: right;\">\n",
       "      <th></th>\n",
       "      <th>lat</th>\n",
       "      <th>lon</th>\n",
       "      <th>name</th>\n",
       "      <th>address</th>\n",
       "    </tr>\n",
       "  </thead>\n",
       "  <tbody>\n",
       "    <tr>\n",
       "      <th>0</th>\n",
       "      <td>40.421052</td>\n",
       "      <td>-3.689841</td>\n",
       "      <td>Café Villalar</td>\n",
       "      <td>Calle de Villalar 4</td>\n",
       "    </tr>\n",
       "    <tr>\n",
       "      <th>1</th>\n",
       "      <td>40.422195</td>\n",
       "      <td>-3.692342</td>\n",
       "      <td>Gran Café Gijón</td>\n",
       "      <td>Sin calle 0</td>\n",
       "    </tr>\n",
       "    <tr>\n",
       "      <th>2</th>\n",
       "      <td>40.422991</td>\n",
       "      <td>-3.693652</td>\n",
       "      <td>Hermanas Arce</td>\n",
       "      <td>Calle del Marqués de Monasterio 6</td>\n",
       "    </tr>\n",
       "    <tr>\n",
       "      <th>3</th>\n",
       "      <td>40.421875</td>\n",
       "      <td>-3.690123</td>\n",
       "      <td>masticar</td>\n",
       "      <td>Sin calle 0</td>\n",
       "    </tr>\n",
       "  </tbody>\n",
       "</table>\n",
       "</div>"
      ],
      "text/plain": [
       "         lat       lon             name                            address\n",
       "0  40.421052 -3.689841    Café Villalar                Calle de Villalar 4\n",
       "1  40.422195 -3.692342  Gran Café Gijón                        Sin calle 0\n",
       "2  40.422991 -3.693652    Hermanas Arce  Calle del Marqués de Monasterio 6\n",
       "3  40.421875 -3.690123         masticar                        Sin calle 0"
      ]
     },
     "execution_count": 44,
     "metadata": {},
     "output_type": "execute_result"
    }
   ],
   "source": [
    "df_return = json_to_dataframe(data)\n",
    "df_return.head()"
   ]
  },
  {
   "cell_type": "code",
   "execution_count": null,
   "metadata": {},
   "outputs": [],
   "source": [
    "# lista_responses = [data1, data2, data3, data4]\n",
    "# for data in lista_responses:\n",
    "#     df_return = json_to_dataframe(data)\n",
    "#     df_results = df_results.concat(df_return)"
   ]
  },
  {
   "attachments": {},
   "cell_type": "markdown",
   "metadata": {},
   "source": [
    "## Datos del espacio\n",
    "\n",
    "Otro ejemplo, enlanzando paths para generar URLs y definiendo las queries."
   ]
  },
  {
   "cell_type": "code",
   "execution_count": 23,
   "metadata": {
    "tags": []
   },
   "outputs": [],
   "source": [
    "'''\n",
    "https://thespacedevs.com/llapi\n",
    "https://ll.thespacedevs.com/2.2.0/swagger\n",
    "'''\n",
    "space_url = \"http://ll.thespacedevs.com/2.2.0\"\n",
    "\n",
    "path = \"/astronaut\"\n",
    "\n",
    "url_total = space_url + path\n",
    "\n",
    "response = requests.get(url_total)"
   ]
  },
  {
   "cell_type": "code",
   "execution_count": 26,
   "metadata": {
    "collapsed": true,
    "jupyter": {
     "outputs_hidden": true
    },
    "tags": []
   },
   "outputs": [
    {
     "name": "stdout",
     "output_type": "stream",
     "text": [
      "200\n"
     ]
    },
    {
     "data": {
      "text/plain": [
       "{'count': 732,\n",
       " 'next': 'https://ll.thespacedevs.com/2.2.0/astronaut/?limit=10&offset=10',\n",
       " 'previous': None,\n",
       " 'results': [{'id': 1,\n",
       "   'url': 'https://ll.thespacedevs.com/2.2.0/astronaut/1/',\n",
       "   'name': 'Thomas Pesquet',\n",
       "   'status': {'id': 1, 'name': 'Active'},\n",
       "   'type': {'id': 2, 'name': 'Government'},\n",
       "   'in_space': False,\n",
       "   'time_in_space': 'P396DT11H33M45S',\n",
       "   'eva_time': 'P1DT15H54M',\n",
       "   'age': 45,\n",
       "   'date_of_birth': '1978-02-27',\n",
       "   'date_of_death': None,\n",
       "   'nationality': 'French',\n",
       "   'bio': 'Thomas Gautier Pesquet is a French aerospace engineer, pilot, and European Space Agency astronaut. Pesquet was selected by ESA as a candidate in May 2009, and he successfully completed his basic training in November 2010. From November 2016 to June 2017, Pesquet was part of Expeditions 50 and 51 on the International Space Station as a flight engineer.',\n",
       "   'twitter': 'https://twitter.com/Thom_astro',\n",
       "   'instagram': 'https://instagram.com/thom_astro',\n",
       "   'wiki': 'https://en.wikipedia.org/wiki/Thomas_Pesquet',\n",
       "   'agency': {'id': 27,\n",
       "    'url': 'https://ll.thespacedevs.com/2.2.0/agencies/27/',\n",
       "    'name': 'European Space Agency',\n",
       "    'featured': False,\n",
       "    'type': 'Multinational',\n",
       "    'country_code': 'AUT,BEL,CZE,DNK,FIN,FRA,DEU,GRC,IRE,ITA,LUZ,NLD,NOR,POL,PRT,ROU,ESP,SWE,CHE,GBR',\n",
       "    'abbrev': 'ESA',\n",
       "    'description': \"The European Space Agency is an intergovernmental organisation of 22 member states. Established in 1975 and headquartered in Paris, France, ESA has a worldwide staff of about 2,000 employees.\\r\\n\\r\\nESA's space flight programme includes human spaceflight (mainly through participation in the International Space Station program); the launch and operation of unmanned exploration missions to other planets and the Moon; Earth observation, science and telecommunication; designing launch vehicles; and maintaining a major spaceport, the Guiana Space Centre at Kourou, French Guiana.\",\n",
       "    'administrator': 'Director General: Josef Aschbacher',\n",
       "    'founding_year': '1975',\n",
       "    'launchers': '',\n",
       "    'spacecraft': '',\n",
       "    'parent': None,\n",
       "    'image_url': None,\n",
       "    'logo_url': 'https://spacelaunchnow-prod-east.nyc3.digitaloceanspaces.com/media/logo/european2520space2520agency_logo_20221130101442.png'},\n",
       "   'profile_image': 'https://spacelaunchnow-prod-east.nyc3.digitaloceanspaces.com/media/astronaut_images/thomas2520pesquet_image_20200102120546.jpeg',\n",
       "   'profile_image_thumbnail': 'https://spacelaunchnow-prod-east.nyc3.digitaloceanspaces.com/media/astronaut_images/thomas_pesquet_thumbnail_20220911033657.jpeg',\n",
       "   'flights_count': 2,\n",
       "   'landings_count': 2,\n",
       "   'spacewalks_count': 6,\n",
       "   'last_flight': '2021-04-23T09:49:02Z',\n",
       "   'first_flight': '2016-11-17T20:20:13Z'},\n",
       "  {'id': 2,\n",
       "   'url': 'https://ll.thespacedevs.com/2.2.0/astronaut/2/',\n",
       "   'name': 'Claude Nicollier',\n",
       "   'status': {'id': 2, 'name': 'Retired'},\n",
       "   'type': {'id': 2, 'name': 'Government'},\n",
       "   'in_space': False,\n",
       "   'time_in_space': 'P42DT12H3M12S',\n",
       "   'eva_time': 'PT8H10M',\n",
       "   'age': 78,\n",
       "   'date_of_birth': '1944-09-02',\n",
       "   'date_of_death': None,\n",
       "   'nationality': 'Swiss',\n",
       "   'bio': 'Claude Nicollier is the first astronaut from Switzerland. He has flown on four Space Shuttle missions. His first spaceflight (STS-46) was in 1992, and his final spaceflight (STS-103) was in 1999. He took part in two servicing missions to the Hubble Space Telescope (called STS-61 and STS-103). During his final spaceflight he participated in a spacewalk, becoming the first European Space Agency astronaut to do so during a Space Shuttle mission. In 2000 he was assigned to the Astronaut Office Extravehicular Activity Branch, while maintaining a position as Lead ESA Astronaut in Houston. Nicollier retired from ESA in April 2007.',\n",
       "   'twitter': 'https://twitter.com/Astroclaude',\n",
       "   'instagram': None,\n",
       "   'wiki': 'https://en.wikipedia.org/wiki/Claude_Nicollier',\n",
       "   'agency': {'id': 27,\n",
       "    'url': 'https://ll.thespacedevs.com/2.2.0/agencies/27/',\n",
       "    'name': 'European Space Agency',\n",
       "    'featured': False,\n",
       "    'type': 'Multinational',\n",
       "    'country_code': 'AUT,BEL,CZE,DNK,FIN,FRA,DEU,GRC,IRE,ITA,LUZ,NLD,NOR,POL,PRT,ROU,ESP,SWE,CHE,GBR',\n",
       "    'abbrev': 'ESA',\n",
       "    'description': \"The European Space Agency is an intergovernmental organisation of 22 member states. Established in 1975 and headquartered in Paris, France, ESA has a worldwide staff of about 2,000 employees.\\r\\n\\r\\nESA's space flight programme includes human spaceflight (mainly through participation in the International Space Station program); the launch and operation of unmanned exploration missions to other planets and the Moon; Earth observation, science and telecommunication; designing launch vehicles; and maintaining a major spaceport, the Guiana Space Centre at Kourou, French Guiana.\",\n",
       "    'administrator': 'Director General: Josef Aschbacher',\n",
       "    'founding_year': '1975',\n",
       "    'launchers': '',\n",
       "    'spacecraft': '',\n",
       "    'parent': None,\n",
       "    'image_url': None,\n",
       "    'logo_url': 'https://spacelaunchnow-prod-east.nyc3.digitaloceanspaces.com/media/logo/european2520space2520agency_logo_20221130101442.png'},\n",
       "   'profile_image': 'https://spacelaunchnow-prod-east.nyc3.digitaloceanspaces.com/media/astronaut_images/claude2520nicollier_image_20181127203218.jpg',\n",
       "   'profile_image_thumbnail': 'https://spacelaunchnow-prod-east.nyc3.digitaloceanspaces.com/media/astronaut_images/claude_nicollie_thumbnail_20220911033747.jpeg',\n",
       "   'flights_count': 4,\n",
       "   'landings_count': 4,\n",
       "   'spacewalks_count': 1,\n",
       "   'last_flight': '1999-12-20T00:50:00Z',\n",
       "   'first_flight': '1992-07-31T13:56:48Z'},\n",
       "  {'id': 3,\n",
       "   'url': 'https://ll.thespacedevs.com/2.2.0/astronaut/3/',\n",
       "   'name': 'Tim Peake',\n",
       "   'status': {'id': 2, 'name': 'Retired'},\n",
       "   'type': {'id': 2, 'name': 'Government'},\n",
       "   'in_space': False,\n",
       "   'time_in_space': 'P185DT22H11M51S',\n",
       "   'eva_time': 'PT4H43M',\n",
       "   'age': 51,\n",
       "   'date_of_birth': '1972-04-07',\n",
       "   'date_of_death': None,\n",
       "   'nationality': 'British',\n",
       "   'bio': \"Major Timothy Nigel Peake CMG is a British Army Air Corps officer, former European Space Agency astronaut and International Space Station (ISS) crew member.  He is the first British ESA astronaut, the second astronaut to bear a flag of the United Kingdom patch, the sixth person born in the United Kingdom to go on board the International Space Station and the seventh UK-born person in space. He began the ESA's intensive astronaut basic training course in September 2009 and graduated on 22 November 2010\",\n",
       "   'twitter': 'https://twitter.com/astro_timpeake',\n",
       "   'instagram': 'https://www.instagram.com/astro_timpeake/',\n",
       "   'wiki': 'https://en.wikipedia.org/wiki/Tim_Peake',\n",
       "   'agency': {'id': 27,\n",
       "    'url': 'https://ll.thespacedevs.com/2.2.0/agencies/27/',\n",
       "    'name': 'European Space Agency',\n",
       "    'featured': False,\n",
       "    'type': 'Multinational',\n",
       "    'country_code': 'AUT,BEL,CZE,DNK,FIN,FRA,DEU,GRC,IRE,ITA,LUZ,NLD,NOR,POL,PRT,ROU,ESP,SWE,CHE,GBR',\n",
       "    'abbrev': 'ESA',\n",
       "    'description': \"The European Space Agency is an intergovernmental organisation of 22 member states. Established in 1975 and headquartered in Paris, France, ESA has a worldwide staff of about 2,000 employees.\\r\\n\\r\\nESA's space flight programme includes human spaceflight (mainly through participation in the International Space Station program); the launch and operation of unmanned exploration missions to other planets and the Moon; Earth observation, science and telecommunication; designing launch vehicles; and maintaining a major spaceport, the Guiana Space Centre at Kourou, French Guiana.\",\n",
       "    'administrator': 'Director General: Josef Aschbacher',\n",
       "    'founding_year': '1975',\n",
       "    'launchers': '',\n",
       "    'spacecraft': '',\n",
       "    'parent': None,\n",
       "    'image_url': None,\n",
       "    'logo_url': 'https://spacelaunchnow-prod-east.nyc3.digitaloceanspaces.com/media/logo/european2520space2520agency_logo_20221130101442.png'},\n",
       "   'profile_image': 'https://spacelaunchnow-prod-east.nyc3.digitaloceanspaces.com/media/astronaut_images/tim_peake_image_20230120154350.jpg',\n",
       "   'profile_image_thumbnail': 'https://spacelaunchnow-prod-east.nyc3.digitaloceanspaces.com/media/astronaut_images/tim_peake_thumbnail_20230120154351.jpeg',\n",
       "   'flights_count': 1,\n",
       "   'landings_count': 1,\n",
       "   'spacewalks_count': 1,\n",
       "   'last_flight': '2015-12-15T11:03:09Z',\n",
       "   'first_flight': '2015-12-15T11:03:09Z'},\n",
       "  {'id': 4,\n",
       "   'url': 'https://ll.thespacedevs.com/2.2.0/astronaut/4/',\n",
       "   'name': 'Buzz Aldrin',\n",
       "   'status': {'id': 2, 'name': 'Retired'},\n",
       "   'type': {'id': 2, 'name': 'Government'},\n",
       "   'in_space': False,\n",
       "   'time_in_space': 'P12DT1H52M27S',\n",
       "   'eva_time': 'PT8H1M40S',\n",
       "   'age': 93,\n",
       "   'date_of_birth': '1930-01-20',\n",
       "   'date_of_death': None,\n",
       "   'nationality': 'American',\n",
       "   'bio': 'Buzz Aldrin; born Edwin Eugene Aldrin Jr.; is an American engineer, former astronaut, and fighter pilot.\\r\\nAs Lunar Module Pilot on the Apollo 11 mission, he and mission commander Neil Armstrong were the first two humans to land on the Moon.',\n",
       "   'twitter': 'https://twitter.com/TheRealBuzz',\n",
       "   'instagram': 'https://www.instagram.com/drbuzzaldrin/',\n",
       "   'wiki': 'https://en.wikipedia.org/wiki/Buzz_Aldrin',\n",
       "   'agency': {'id': 44,\n",
       "    'url': 'https://ll.thespacedevs.com/2.2.0/agencies/44/',\n",
       "    'name': 'National Aeronautics and Space Administration',\n",
       "    'featured': True,\n",
       "    'type': 'Government',\n",
       "    'country_code': 'USA',\n",
       "    'abbrev': 'NASA',\n",
       "    'description': 'The National Aeronautics and Space Administration is an independent agency of the executive branch of the United States federal government responsible for the civilian space program, as well as aeronautics and aerospace research. NASA have many launch facilities but most are inactive. The most commonly used pad will be LC-39B at Kennedy Space Center in Florida.',\n",
       "    'administrator': 'Administrator: Bill Nelson',\n",
       "    'founding_year': '1958',\n",
       "    'launchers': 'Space Shuttle | SLS',\n",
       "    'spacecraft': 'Orion',\n",
       "    'parent': None,\n",
       "    'image_url': 'https://spacelaunchnow-prod-east.nyc3.digitaloceanspaces.com/media/agency_images/national2520aeronautics2520and2520space2520administration_image_20190207032448.jpeg',\n",
       "    'logo_url': 'https://spacelaunchnow-prod-east.nyc3.digitaloceanspaces.com/media/logo/national2520aeronautics2520and2520space2520administration_logo_20190207032448.png'},\n",
       "   'profile_image': 'https://spacelaunchnow-prod-east.nyc3.digitaloceanspaces.com/media/astronaut_images/buzz_aldrin_image_20220911034547.jpeg',\n",
       "   'profile_image_thumbnail': 'https://spacelaunchnow-prod-east.nyc3.digitaloceanspaces.com/media/astronaut_images/buzz_aldrin_thumbnail_20220911034547.jpeg',\n",
       "   'flights_count': 2,\n",
       "   'landings_count': 2,\n",
       "   'spacewalks_count': 4,\n",
       "   'last_flight': '1969-07-16T13:32:00Z',\n",
       "   'first_flight': '1966-11-11T20:46:33Z'},\n",
       "  {'id': 5,\n",
       "   'url': 'https://ll.thespacedevs.com/2.2.0/astronaut/5/',\n",
       "   'name': 'Chris Hadfield',\n",
       "   'status': {'id': 2, 'name': 'Retired'},\n",
       "   'type': {'id': 2, 'name': 'Government'},\n",
       "   'in_space': False,\n",
       "   'time_in_space': 'P165DT16H19M',\n",
       "   'eva_time': 'PT14H50M',\n",
       "   'age': 63,\n",
       "   'date_of_birth': '1959-08-29',\n",
       "   'date_of_death': None,\n",
       "   'nationality': 'Canadian',\n",
       "   'bio': 'Chris Austin Hadfield is a Canadian retired astronaut, engineer, and former Royal Canadian Air Force fighter pilot.\\r\\nThe first Canadian to walk in space, Hadfield has flown two space shuttle missions and served as commander of the International Space Station.',\n",
       "   'twitter': 'https://twitter.com/Cmdr_Hadfield',\n",
       "   'instagram': 'https://www.instagram.com/colchrishadfield/',\n",
       "   'wiki': 'https://en.wikipedia.org/wiki/Chris_Hadfield',\n",
       "   'agency': {'id': 16,\n",
       "    'url': 'https://ll.thespacedevs.com/2.2.0/agencies/16/',\n",
       "    'name': 'Canadian Space Agency',\n",
       "    'featured': False,\n",
       "    'type': 'Government',\n",
       "    'country_code': 'CAN',\n",
       "    'abbrev': 'CSA',\n",
       "    'description': 'The Canadian Space Agency was established by the Canadian Space Agency Act which received Royal Assent on May 10, 1990. \\r\\n\\r\\nThe Canadian space program is administered by the Canadian Space Agency. Canada has contributed technology, expertise and personnel to the world space effort, especially in collaboration with ESA and NASA. In addition to its astronauts and satellites, some of the most notable Canadian technological contributions to space exploration include the Canadarm on the Space Shuttle and Canadarm2 on the International Space Station.',\n",
       "    'administrator': None,\n",
       "    'founding_year': '1990',\n",
       "    'launchers': '',\n",
       "    'spacecraft': '',\n",
       "    'parent': None,\n",
       "    'image_url': None,\n",
       "    'logo_url': 'https://spacelaunchnow-prod-east.nyc3.digitaloceanspaces.com/media/logo/canadian2520space2520agency_logo_20190417034740.jpg'},\n",
       "   'profile_image': 'https://spacelaunchnow-prod-east.nyc3.digitaloceanspaces.com/media/astronaut_images/chris_hadfield_image_20220911034200.jpeg',\n",
       "   'profile_image_thumbnail': 'https://spacelaunchnow-prod-east.nyc3.digitaloceanspaces.com/media/astronaut_images/chris_hadfield_thumbnail_20220911034200.jpeg',\n",
       "   'flights_count': 3,\n",
       "   'landings_count': 3,\n",
       "   'spacewalks_count': 2,\n",
       "   'last_flight': '2012-12-19T12:12:35Z',\n",
       "   'first_flight': '1995-11-12T12:30:43Z'},\n",
       "  {'id': 6,\n",
       "   'url': 'https://ll.thespacedevs.com/2.2.0/astronaut/6/',\n",
       "   'name': 'David Saint-Jacques',\n",
       "   'status': {'id': 1, 'name': 'Active'},\n",
       "   'type': {'id': 2, 'name': 'Government'},\n",
       "   'in_space': False,\n",
       "   'time_in_space': 'P203DT12H28M8S',\n",
       "   'eva_time': 'PT6H29M',\n",
       "   'age': 53,\n",
       "   'date_of_birth': '1970-01-06',\n",
       "   'date_of_death': None,\n",
       "   'nationality': 'Canadian',\n",
       "   'bio': 'David Saint-Jacques is a Canadian astronaut with the Canadian Space Agency (CSA).\\r\\nHe was also an engineer, an astrophysicist, and a physician prior to joining the CSA.\\r\\nHe was selected to join the CSA in the 2009 CSA selection along with Jeremy Hansen.',\n",
       "   'twitter': 'https://twitter.com/Astro_DavidS',\n",
       "   'instagram': 'https://www.instagram.com/astrodavids/',\n",
       "   'wiki': 'https://en.wikipedia.org/wiki/David_Saint-Jacques',\n",
       "   'agency': {'id': 16,\n",
       "    'url': 'https://ll.thespacedevs.com/2.2.0/agencies/16/',\n",
       "    'name': 'Canadian Space Agency',\n",
       "    'featured': False,\n",
       "    'type': 'Government',\n",
       "    'country_code': 'CAN',\n",
       "    'abbrev': 'CSA',\n",
       "    'description': 'The Canadian Space Agency was established by the Canadian Space Agency Act which received Royal Assent on May 10, 1990. \\r\\n\\r\\nThe Canadian space program is administered by the Canadian Space Agency. Canada has contributed technology, expertise and personnel to the world space effort, especially in collaboration with ESA and NASA. In addition to its astronauts and satellites, some of the most notable Canadian technological contributions to space exploration include the Canadarm on the Space Shuttle and Canadarm2 on the International Space Station.',\n",
       "    'administrator': None,\n",
       "    'founding_year': '1990',\n",
       "    'launchers': '',\n",
       "    'spacecraft': '',\n",
       "    'parent': None,\n",
       "    'image_url': None,\n",
       "    'logo_url': 'https://spacelaunchnow-prod-east.nyc3.digitaloceanspaces.com/media/logo/canadian2520space2520agency_logo_20190417034740.jpg'},\n",
       "   'profile_image': 'https://spacelaunchnow-prod-east.nyc3.digitaloceanspaces.com/media/astronaut_images/david_saint-jac_image_20220911034207.jpeg',\n",
       "   'profile_image_thumbnail': 'https://spacelaunchnow-prod-east.nyc3.digitaloceanspaces.com/media/astronaut_images/david_saint-jac_thumbnail_20220911034208.jpeg',\n",
       "   'flights_count': 1,\n",
       "   'landings_count': 1,\n",
       "   'spacewalks_count': 1,\n",
       "   'last_flight': '2018-12-03T11:31:52Z',\n",
       "   'first_flight': '2018-12-03T11:31:52Z'},\n",
       "  {'id': 7,\n",
       "   'url': 'https://ll.thespacedevs.com/2.2.0/astronaut/7/',\n",
       "   'name': 'Anne McClain',\n",
       "   'status': {'id': 1, 'name': 'Active'},\n",
       "   'type': {'id': 2, 'name': 'Government'},\n",
       "   'in_space': False,\n",
       "   'time_in_space': 'P203DT12H28M8S',\n",
       "   'eva_time': 'PT13H8M',\n",
       "   'age': 43,\n",
       "   'date_of_birth': '1979-06-07',\n",
       "   'date_of_death': None,\n",
       "   'nationality': 'American',\n",
       "   'bio': 'Anne Charlotte McClain is a lieutenant colonel in the U.S. Army currently assigned to NASA Astronaut Group 21.',\n",
       "   'twitter': 'https://twitter.com/AstroAnnimal',\n",
       "   'instagram': None,\n",
       "   'wiki': 'https://en.wikipedia.org/wiki/Anne_McClain',\n",
       "   'agency': {'id': 44,\n",
       "    'url': 'https://ll.thespacedevs.com/2.2.0/agencies/44/',\n",
       "    'name': 'National Aeronautics and Space Administration',\n",
       "    'featured': True,\n",
       "    'type': 'Government',\n",
       "    'country_code': 'USA',\n",
       "    'abbrev': 'NASA',\n",
       "    'description': 'The National Aeronautics and Space Administration is an independent agency of the executive branch of the United States federal government responsible for the civilian space program, as well as aeronautics and aerospace research. NASA have many launch facilities but most are inactive. The most commonly used pad will be LC-39B at Kennedy Space Center in Florida.',\n",
       "    'administrator': 'Administrator: Bill Nelson',\n",
       "    'founding_year': '1958',\n",
       "    'launchers': 'Space Shuttle | SLS',\n",
       "    'spacecraft': 'Orion',\n",
       "    'parent': None,\n",
       "    'image_url': 'https://spacelaunchnow-prod-east.nyc3.digitaloceanspaces.com/media/agency_images/national2520aeronautics2520and2520space2520administration_image_20190207032448.jpeg',\n",
       "    'logo_url': 'https://spacelaunchnow-prod-east.nyc3.digitaloceanspaces.com/media/logo/national2520aeronautics2520and2520space2520administration_logo_20190207032448.png'},\n",
       "   'profile_image': 'https://spacelaunchnow-prod-east.nyc3.digitaloceanspaces.com/media/astronaut_images/anne2520mcclain_image_20181127210625.jpg',\n",
       "   'profile_image_thumbnail': 'https://spacelaunchnow-prod-east.nyc3.digitaloceanspaces.com/media/astronaut_images/anne_mcclain_thumbnail_20220911034153.jpeg',\n",
       "   'flights_count': 1,\n",
       "   'landings_count': 1,\n",
       "   'spacewalks_count': 2,\n",
       "   'last_flight': '2018-12-03T11:31:52Z',\n",
       "   'first_flight': '2018-12-03T11:31:52Z'},\n",
       "  {'id': 8,\n",
       "   'url': 'https://ll.thespacedevs.com/2.2.0/astronaut/8/',\n",
       "   'name': 'Andrew R. Morgan',\n",
       "   'status': {'id': 1, 'name': 'Active'},\n",
       "   'type': {'id': 2, 'name': 'Government'},\n",
       "   'in_space': False,\n",
       "   'time_in_space': 'P271DT12H48M22S',\n",
       "   'eva_time': 'P1DT21H48M',\n",
       "   'age': 47,\n",
       "   'date_of_birth': '1976-02-05',\n",
       "   'date_of_death': None,\n",
       "   'nationality': 'American',\n",
       "   'bio': 'Andrew Richard \"Drew\" Morgan is a NASA astronaut from the class of 2013.',\n",
       "   'twitter': 'https://twitter.com/AstroDrewMorgan',\n",
       "   'instagram': 'https://www.instagram.com/astrodrewmorgan/',\n",
       "   'wiki': 'https://en.wikipedia.org/wiki/Andrew_R._Morgan',\n",
       "   'agency': {'id': 44,\n",
       "    'url': 'https://ll.thespacedevs.com/2.2.0/agencies/44/',\n",
       "    'name': 'National Aeronautics and Space Administration',\n",
       "    'featured': True,\n",
       "    'type': 'Government',\n",
       "    'country_code': 'USA',\n",
       "    'abbrev': 'NASA',\n",
       "    'description': 'The National Aeronautics and Space Administration is an independent agency of the executive branch of the United States federal government responsible for the civilian space program, as well as aeronautics and aerospace research. NASA have many launch facilities but most are inactive. The most commonly used pad will be LC-39B at Kennedy Space Center in Florida.',\n",
       "    'administrator': 'Administrator: Bill Nelson',\n",
       "    'founding_year': '1958',\n",
       "    'launchers': 'Space Shuttle | SLS',\n",
       "    'spacecraft': 'Orion',\n",
       "    'parent': None,\n",
       "    'image_url': 'https://spacelaunchnow-prod-east.nyc3.digitaloceanspaces.com/media/agency_images/national2520aeronautics2520and2520space2520administration_image_20190207032448.jpeg',\n",
       "    'logo_url': 'https://spacelaunchnow-prod-east.nyc3.digitaloceanspaces.com/media/logo/national2520aeronautics2520and2520space2520administration_logo_20190207032448.png'},\n",
       "   'profile_image': 'https://spacelaunchnow-prod-east.nyc3.digitaloceanspaces.com/media/astronaut_images/andrew_r._morga_image_20220911034204.jpeg',\n",
       "   'profile_image_thumbnail': 'https://spacelaunchnow-prod-east.nyc3.digitaloceanspaces.com/media/astronaut_images/andrew_r._morga_thumbnail_20220911034204.jpeg',\n",
       "   'flights_count': 1,\n",
       "   'landings_count': 1,\n",
       "   'spacewalks_count': 7,\n",
       "   'last_flight': '2019-07-20T16:28:21Z',\n",
       "   'first_flight': '2019-07-20T16:28:21Z'},\n",
       "  {'id': 9,\n",
       "   'url': 'https://ll.thespacedevs.com/2.2.0/astronaut/9/',\n",
       "   'name': 'Nick Hague',\n",
       "   'status': {'id': 1, 'name': 'Active'},\n",
       "   'type': {'id': 2, 'name': 'Government'},\n",
       "   'in_space': False,\n",
       "   'time_in_space': 'P202DT16H3M37S',\n",
       "   'eva_time': 'PT19H56M',\n",
       "   'age': 47,\n",
       "   'date_of_birth': '1975-09-24',\n",
       "   'date_of_death': None,\n",
       "   'nationality': 'American',\n",
       "   'bio': 'Tyler Nicklaus Hague is an American Flight Test Engineer and a NASA astronaut of the class of 2013.\\r\\nSelected to be a flight engineer of Expedition 57 / 58 to the International Space Station, he launched on board Soyuz MS-10, which aborted shortly after launch on October 11, 2018.',\n",
       "   'twitter': 'https://twitter.com/AstroHague',\n",
       "   'instagram': 'https://www.instagram.com/astrohague/',\n",
       "   'wiki': 'https://en.wikipedia.org/wiki/Nick_Hague',\n",
       "   'agency': {'id': 44,\n",
       "    'url': 'https://ll.thespacedevs.com/2.2.0/agencies/44/',\n",
       "    'name': 'National Aeronautics and Space Administration',\n",
       "    'featured': True,\n",
       "    'type': 'Government',\n",
       "    'country_code': 'USA',\n",
       "    'abbrev': 'NASA',\n",
       "    'description': 'The National Aeronautics and Space Administration is an independent agency of the executive branch of the United States federal government responsible for the civilian space program, as well as aeronautics and aerospace research. NASA have many launch facilities but most are inactive. The most commonly used pad will be LC-39B at Kennedy Space Center in Florida.',\n",
       "    'administrator': 'Administrator: Bill Nelson',\n",
       "    'founding_year': '1958',\n",
       "    'launchers': 'Space Shuttle | SLS',\n",
       "    'spacecraft': 'Orion',\n",
       "    'parent': None,\n",
       "    'image_url': 'https://spacelaunchnow-prod-east.nyc3.digitaloceanspaces.com/media/agency_images/national2520aeronautics2520and2520space2520administration_image_20190207032448.jpeg',\n",
       "    'logo_url': 'https://spacelaunchnow-prod-east.nyc3.digitaloceanspaces.com/media/logo/national2520aeronautics2520and2520space2520administration_logo_20190207032448.png'},\n",
       "   'profile_image': 'https://spacelaunchnow-prod-east.nyc3.digitaloceanspaces.com/media/astronaut_images/nick_hague_image_20220911034312.jpeg',\n",
       "   'profile_image_thumbnail': 'https://spacelaunchnow-prod-east.nyc3.digitaloceanspaces.com/media/astronaut_images/nick_hague_thumbnail_20220911034312.jpeg',\n",
       "   'flights_count': 2,\n",
       "   'landings_count': 2,\n",
       "   'spacewalks_count': 3,\n",
       "   'last_flight': '2019-03-14T19:14:08Z',\n",
       "   'first_flight': '2018-10-11T08:40:15Z'},\n",
       "  {'id': 10,\n",
       "   'url': 'https://ll.thespacedevs.com/2.2.0/astronaut/10/',\n",
       "   'name': 'Terry W. Virts',\n",
       "   'status': {'id': 2, 'name': 'Retired'},\n",
       "   'type': {'id': 2, 'name': 'Government'},\n",
       "   'in_space': False,\n",
       "   'time_in_space': 'P213DT10H50M46S',\n",
       "   'eva_time': 'PT19H2M',\n",
       "   'age': 55,\n",
       "   'date_of_birth': '1967-12-01',\n",
       "   'date_of_death': None,\n",
       "   'nationality': 'American',\n",
       "   'bio': 'Terry W. Virts Jr. is a former NASA astronaut, and Colonel in the United States Air Force.',\n",
       "   'twitter': 'https://twitter.com/AstroTerry',\n",
       "   'instagram': 'https://www.instagram.com/astro_terry/',\n",
       "   'wiki': 'https://en.wikipedia.org/wiki/Terry_W._Virts',\n",
       "   'agency': {'id': 44,\n",
       "    'url': 'https://ll.thespacedevs.com/2.2.0/agencies/44/',\n",
       "    'name': 'National Aeronautics and Space Administration',\n",
       "    'featured': True,\n",
       "    'type': 'Government',\n",
       "    'country_code': 'USA',\n",
       "    'abbrev': 'NASA',\n",
       "    'description': 'The National Aeronautics and Space Administration is an independent agency of the executive branch of the United States federal government responsible for the civilian space program, as well as aeronautics and aerospace research. NASA have many launch facilities but most are inactive. The most commonly used pad will be LC-39B at Kennedy Space Center in Florida.',\n",
       "    'administrator': 'Administrator: Bill Nelson',\n",
       "    'founding_year': '1958',\n",
       "    'launchers': 'Space Shuttle | SLS',\n",
       "    'spacecraft': 'Orion',\n",
       "    'parent': None,\n",
       "    'image_url': 'https://spacelaunchnow-prod-east.nyc3.digitaloceanspaces.com/media/agency_images/national2520aeronautics2520and2520space2520administration_image_20190207032448.jpeg',\n",
       "    'logo_url': 'https://spacelaunchnow-prod-east.nyc3.digitaloceanspaces.com/media/logo/national2520aeronautics2520and2520space2520administration_logo_20190207032448.png'},\n",
       "   'profile_image': 'https://spacelaunchnow-prod-east.nyc3.digitaloceanspaces.com/media/astronaut_images/terry_w._virts_image_20220911033815.jpeg',\n",
       "   'profile_image_thumbnail': 'https://spacelaunchnow-prod-east.nyc3.digitaloceanspaces.com/media/astronaut_images/terry_w._virts_thumbnail_20220911033815.jpeg',\n",
       "   'flights_count': 2,\n",
       "   'landings_count': 2,\n",
       "   'spacewalks_count': 3,\n",
       "   'last_flight': '2014-11-23T21:01:14Z',\n",
       "   'first_flight': '2010-02-08T09:14:00Z'}]}"
      ]
     },
     "execution_count": 26,
     "metadata": {},
     "output_type": "execute_result"
    }
   ],
   "source": [
    "print(response.status_code)\n",
    "type(response.content)\n",
    "response.json()"
   ]
  },
  {
   "cell_type": "code",
   "execution_count": 48,
   "metadata": {},
   "outputs": [
    {
     "data": {
      "text/plain": [
       "'http://ll.thespacedevs.com/2.2.0/astronaut'"
      ]
     },
     "execution_count": 48,
     "metadata": {},
     "output_type": "execute_result"
    }
   ],
   "source": [
    "url_total"
   ]
  },
  {
   "cell_type": "code",
   "execution_count": 49,
   "metadata": {},
   "outputs": [],
   "source": [
    "url_total = space_url + path + \"/?nationality=Spanish\"\n",
    "\n",
    "response = requests.get(url_total)"
   ]
  },
  {
   "cell_type": "code",
   "execution_count": 50,
   "metadata": {},
   "outputs": [
    {
     "data": {
      "text/plain": [
       "'http://ll.thespacedevs.com/2.2.0/astronaut/?nationality=Spanish'"
      ]
     },
     "execution_count": 50,
     "metadata": {},
     "output_type": "execute_result"
    }
   ],
   "source": [
    "url_total"
   ]
  },
  {
   "cell_type": "code",
   "execution_count": 51,
   "metadata": {
    "tags": []
   },
   "outputs": [
    {
     "data": {
      "text/plain": [
       "{'count': 1,\n",
       " 'next': None,\n",
       " 'previous': None,\n",
       " 'results': [{'id': 95,\n",
       "   'url': 'https://ll.thespacedevs.com/2.2.0/astronaut/95/',\n",
       "   'name': 'Pedro Duque',\n",
       "   'status': {'id': 2, 'name': 'Retired'},\n",
       "   'type': {'id': 2, 'name': 'Government'},\n",
       "   'date_of_birth': '1963-03-14',\n",
       "   'date_of_death': None,\n",
       "   'nationality': 'Spanish',\n",
       "   'bio': \"Pedro Francisco Duque Duque, OF, OMSE (Madrid, 14 March 1963) is a Spanish astronaut and aeronautics engineer, currently serving as Spain's Minister of Science, Innovation and Universities. He was the first Spanish astronaut.\\r\\n\\r\\nDuque underwent training in both Russia and the United States. His first spaceflight was as a mission specialist aboard space shuttle mission STS-95, during which Duque supervised ESA experimental modules. In October 2003, Duque visited the International Space Station on board of a Soyuz TMA Ship for several days during a crew changeover. The scientific program of this visit was called by ESA/Spain Misión Cervantes.\",\n",
       "   'twitter': None,\n",
       "   'instagram': None,\n",
       "   'wiki': 'https://en.wikipedia.org/wiki/Pedro_Duque',\n",
       "   'agency': {'id': 27,\n",
       "    'url': 'https://ll.thespacedevs.com/2.2.0/agencies/27/',\n",
       "    'name': 'European Space Agency',\n",
       "    'featured': False,\n",
       "    'type': 'Multinational',\n",
       "    'country_code': 'AUT,BEL,CZE,DNK,FIN,FRA,DEU,GRC,IRE,ITA,LUZ,NLD,NOR,POL,PRT,ROU,ESP,SWE,CHE,GBR',\n",
       "    'abbrev': 'ESA',\n",
       "    'description': \"The European Space Agency is an intergovernmental organisation of 22 member states. Established in 1975 and headquartered in Paris, France, ESA has a worldwide staff of about 2,000 employees.\\r\\n\\r\\nESA's space flight programme includes human spaceflight (mainly through participation in the International Space Station program); the launch and operation of unmanned exploration missions to other planets and the Moon; Earth observation, science and telecommunication; designing launch vehicles; and maintaining a major spaceport, the Guiana Space Centre at Kourou, French Guiana.\",\n",
       "    'administrator': 'Johann-Dietrich Wörner',\n",
       "    'founding_year': '1975',\n",
       "    'launchers': '',\n",
       "    'spacecraft': '',\n",
       "    'parent': None,\n",
       "    'image_url': None},\n",
       "   'profile_image': 'https://spacelaunchnow-prod-east.nyc3.digitaloceanspaces.com/media/astronaut_images/pedro2520duque_image_20181128225634.jpg',\n",
       "   'profile_image_thumbnail': 'https://spacelaunchnow-prod-east.nyc3.digitaloceanspaces.com/media/default/cache/a2/c9/a2c9c37ff19aba5120410597b93ad68b.jpg',\n",
       "   'last_flight': '2003-10-18T05:38:03Z',\n",
       "   'first_flight': '1998-10-29T19:19:34Z'}]}"
      ]
     },
     "execution_count": 51,
     "metadata": {},
     "output_type": "execute_result"
    }
   ],
   "source": [
    "response.json()"
   ]
  },
  {
   "cell_type": "code",
   "execution_count": null,
   "metadata": {},
   "outputs": [],
   "source": []
  }
 ],
 "metadata": {
  "colab": {
   "name": "1-DataAccess.ipynb",
   "provenance": []
  },
  "kernelspec": {
   "display_name": "Python 3.7.4 64-bit",
   "language": "python",
   "name": "python3"
  },
  "language_info": {
   "codemirror_mode": {
    "name": "ipython",
    "version": 3
   },
   "file_extension": ".py",
   "mimetype": "text/x-python",
   "name": "python",
   "nbconvert_exporter": "python",
   "pygments_lexer": "ipython3",
   "version": "3.10.11"
  },
  "vscode": {
   "interpreter": {
    "hash": "90139cb9a825bf3d63f6f6704e828dbd1ff7edbd4d0c6e906a71235d6efc74af"
   }
  }
 },
 "nbformat": 4,
 "nbformat_minor": 4
}
